{
 "cells": [
  {
   "cell_type": "markdown",
   "metadata": {},
   "source": [
    "# Finding Similar and Different Documents\n",
    "\n",
    "One of the core tasks of text-based data analysis (or of natural language processing in general) is figuring out which documents are similar to one another and which ones are different. Let's say you have a ton of financial documents &mdash; far too many to read manually &mdash; a few of which you know are interesting. You want to find more documents that look like the interesting documents you have.\n",
    "\n",
    "Even if you haven't done this yourself, you've probably seen something like this. Text-based recommendation systems, like the ones at *The New York Times* that suggest a story for you to read after your current article, almost certainly incorporate document similarity as a key feature.\n",
    "\n",
    "In addition to being a feature, and sometimes a standalone task, in natural language processing, document similarity closely resembles a number of other tasks. When you're clustering a set of documents into machine-learned topics, you're finding groups of documents that are similar to one another. And if you're classifying a set of documents, you're kind of creating a binary cluster of documents that resemble each other, at least in one specific way.\n",
    "\n",
    "So what does this have to do with `text_data`, which is a data exploration library? Well, whether you're trying to create a model for a web application, for some data analysis, or to strengthen a journalistic story, you'll want some intuition about *why* your computer thinks some documents are similar to one another and why they're different. You want to make sure that your model is picking up on what you want it to pick up on and is not picking up on things you don't want it to pick up on. It's very easy to create biased models; data exploration is a key way to limit those biases and improve the performance of your models.\n",
    "\n",
    "There's only one function in `text_data` specifically geared toward helping you explore similar documents. `distance_heatmap` allows you to graphically render similarity scores between two corpora (or between one corpus and itself). This requires a \"distance matrix,\" or a matrix of pairwise distances between all of the documents in one corpus to all of the documents in another. There are a ton of different ways to create these matrices, but the basic strategy you'll take will typically go as follows:\n",
    "\n",
    "1. You'll tokenize all of the documents, or in other words convert each document into a list of strings\n",
    "2. You'll build some sort of model that converts the tokenized documents into a vector or matrix of numbers (called an encoding).\n",
    "3. You'll create an pairwise matrix between the two corpuses, setting the values of the cells as the similarity or distance of the two documents at their respective locations. (Typically, you'll use cosine similarity.)\n",
    "\n",
    "For this particular, notebook, I'll be using `Doc2Vec`. Another good option is the Universal Sentence Encoder. But feel free to get creative with this. As long as you end up with a matrix of numbers when all is said and done, you should be good.\n",
    "\n",
    "## Set Up\n",
    "\n",
    "To start, you'll need to install some packages. This notebook uses `altair_saver` to save data visualizations as images, `pandas` to deal with data selection and manipulation, and `gensim` to create our model. You can install them in the cell below."
   ]
  },
  {
   "cell_type": "code",
   "execution_count": 1,
   "metadata": {},
   "outputs": [],
   "source": [
    "%%capture\n",
    "pip install altair_saver pandas gensim"
   ]
  },
  {
   "cell_type": "markdown",
   "metadata": {},
   "source": [
    "## Loading the Data\n",
    "\n",
    "Next, you'll want to load in the data. For all of the examples, I'm using the [Kaggle State of the Union Corpus](https://www.kaggle.com/rtatman/state-of-the-union-corpus-1989-2017) for all of the notebooks in this examples directory. This dataset contains the text of all of the State of the Union Addresses between 1790 and 2018, except for 1933."
   ]
  },
  {
   "cell_type": "code",
   "execution_count": 3,
   "metadata": {},
   "outputs": [
    {
     "data": {
      "text/html": [
       "<div>\n",
       "<style scoped>\n",
       "    .dataframe tbody tr th:only-of-type {\n",
       "        vertical-align: middle;\n",
       "    }\n",
       "\n",
       "    .dataframe tbody tr th {\n",
       "        vertical-align: top;\n",
       "    }\n",
       "\n",
       "    .dataframe thead th {\n",
       "        text-align: right;\n",
       "    }\n",
       "</style>\n",
       "<table border=\"1\" class=\"dataframe\">\n",
       "  <thead>\n",
       "    <tr style=\"text-align: right;\">\n",
       "      <th></th>\n",
       "      <th>president</th>\n",
       "      <th>year</th>\n",
       "      <th>speech</th>\n",
       "    </tr>\n",
       "  </thead>\n",
       "  <tbody>\n",
       "    <tr>\n",
       "      <th>0</th>\n",
       "      <td>Bush</td>\n",
       "      <td>2001</td>\n",
       "      <td>To the Congress of the United States:\\n\\nMr. S...</td>\n",
       "    </tr>\n",
       "    <tr>\n",
       "      <th>1</th>\n",
       "      <td>Monroe</td>\n",
       "      <td>1822</td>\n",
       "      <td>Fellow-Citizens of the Senate and House of Rep...</td>\n",
       "    </tr>\n",
       "    <tr>\n",
       "      <th>2</th>\n",
       "      <td>Washington</td>\n",
       "      <td>1794</td>\n",
       "      <td>Fellow-Citizens of the Senate and House of Rep...</td>\n",
       "    </tr>\n",
       "    <tr>\n",
       "      <th>3</th>\n",
       "      <td>Cleveland</td>\n",
       "      <td>1895</td>\n",
       "      <td>To the Congress of the United States:\\n\\nThe p...</td>\n",
       "    </tr>\n",
       "    <tr>\n",
       "      <th>4</th>\n",
       "      <td>Bush</td>\n",
       "      <td>2008</td>\n",
       "      <td>Madam Speaker, Vice President Cheney, Members ...</td>\n",
       "    </tr>\n",
       "  </tbody>\n",
       "</table>\n",
       "</div>"
      ],
      "text/plain": [
       "    president  year                                             speech\n",
       "0        Bush  2001  To the Congress of the United States:\\n\\nMr. S...\n",
       "1      Monroe  1822  Fellow-Citizens of the Senate and House of Rep...\n",
       "2  Washington  1794  Fellow-Citizens of the Senate and House of Rep...\n",
       "3   Cleveland  1895  To the Congress of the United States:\\n\\nThe p...\n",
       "4        Bush  2008  Madam Speaker, Vice President Cheney, Members ..."
      ]
     },
     "execution_count": 3,
     "metadata": {},
     "output_type": "execute_result"
    }
   ],
   "source": [
    "import multiprocessing\n",
    "\n",
    "from gensim.models import doc2vec\n",
    "from IPython.display import Image\n",
    "import numpy as np\n",
    "import pandas as pd\n",
    "import text_data\n",
    "from utilities import load_sotu_data, tokenizer\n",
    "\n",
    "sotu_speeches = pd.DataFrame(load_sotu_data())\n",
    "sotu_speeches.head()"
   ]
  },
  {
   "cell_type": "markdown",
   "metadata": {},
   "source": [
    "## Create a pairwise distance matrix\n",
    "\n",
    "Next, I'm going to create a document embedding model and use it to create a matrix of similar (or dissimilar) documents. I'm using `Doc2Vec` for this. `Doc2Vec` is a slight extension of `word2vec` that creates vector representations of both documents and words. We'll use it to get a sense of which documents are similar to other documents. However, depending on your context, other methods might work. Just be careful about the length of the documents you're looking at: some methods perform very well for small documents (like tweets) but perform poorly for longer documents (like the State of the Union Addresses we're looking at).\n",
    "\n",
    "To start, I'll create a model and use that to create a pairwise matrix of document similarities across the entire State of the Union corpus."
   ]
  },
  {
   "cell_type": "code",
   "execution_count": 2,
   "metadata": {},
   "outputs": [],
   "source": [
    "sotu_corpus = text_data.Corpus(list(sotu_speeches.speech), tokenizer)\n",
    "documents = [\n",
    "    doc2vec.TaggedDocument(doc, [i])\n",
    "    for i, doc in enumerate(sotu_corpus.tokenized_documents)\n",
    "]\n",
    "# hyperparameters; feel free to experiment with these; this is just intended as a fast and dirty\n",
    "# *ok* representation of the documents\n",
    "doc2vec_params = {\n",
    "    \"alpha\": 0.025,\n",
    "    \"epochs\": 10,\n",
    "    \"min_alpha\": 0.0001,\n",
    "    # this culls rare words from the trained model,\n",
    "    # which lowers the memory cost of the model and *should* improve performance\n",
    "    \"min_count\": 5,\n",
    "    # this just speeds up performance on multi-core machines\n",
    "    \"workers\": max(1, multiprocessing.cpu_count() // 2)\n",
    "}\n",
    "model = doc2vec.Doc2Vec(documents, **doc2vec_params)\n",
    "distance_matrix = np.array(list(map(model.docvecs.distances, range(len(documents)))))"
   ]
  },
  {
   "cell_type": "code",
   "execution_count": 4,
   "metadata": {},
   "outputs": [
    {
     "name": "stdout",
     "output_type": "stream",
     "text": [
      "2.11 s ± 13.2 ms per loop (mean ± std. dev. of 7 runs, 1 loop each)\n"
     ]
    }
   ],
   "source": [
    "%timeit sotu_corpus.add_ngram_index(n=2)"
   ]
  },
  {
   "cell_type": "code",
   "execution_count": null,
   "metadata": {},
   "outputs": [],
   "source": [
    "%load_ext memory_profiler"
   ]
  },
  {
   "cell_type": "code",
   "execution_count": 2,
   "metadata": {},
   "outputs": [
    {
     "name": "stdout",
     "output_type": "stream",
     "text": [
      "peak memory: 47.64 MiB, increment: 0.22 MiB\n"
     ]
    }
   ],
   "source": [
    "%memit"
   ]
  },
  {
   "cell_type": "code",
   "execution_count": 1,
   "metadata": {},
   "outputs": [],
   "source": [
    "import numpy as np\n",
    "import pandas as pd\n",
    "import text_data\n",
    "from utilities import load_sotu_data, tokenizer\n",
    "\n",
    "sotu_speeches = pd.DataFrame(load_sotu_data())"
   ]
  },
  {
   "cell_type": "code",
   "execution_count": 2,
   "metadata": {},
   "outputs": [],
   "source": [
    "corpus = text_data.Corpus(list(sotu_speeches.speech), tokenizer)"
   ]
  },
  {
   "cell_type": "code",
   "execution_count": 3,
   "metadata": {},
   "outputs": [
    {
     "data": {
      "text/html": [
       "<p><b>Document at index 0</b></p><p>To the Congress of the United States:\n",
       "\n",
       "Mr. Speaker, Mr. Vice President, Members of Congress:\n",
       "\n",
       "It is a great privilege to be here to outline a new budget and a new approach\n",
       "for governing our great country. I thank you for your invitation to speak here\n",
       "tonight. I want to thank so many of you who have accepted my invitation to come\n",
       "to the White House to discuss important issues. We are off to a good start. I\n",
       "will continue to meet with you and ask for your input. You have been kind and\n",
       "candid, and I thank you for making a new President feel welcome.\n",
       "\n",
       "The last time I visited the Capitol, I came to take an oath. On the steps of\n",
       "this building, I pledged to honor our Constitution and laws, and I asked you to\n",
       "join me in setting a tone of civility and respect in Washington. I hope America\n",
       "is noticing the difference. We are making progress. Together, we are changing\n",
       "the tone of our Nations capital. And this spirit of respect and cooperation is\n",
       "vitalbecause in the end, we will be judged not only by what we say or how we\n",
       "say it, but by what we are able to accomplish.\n",
       "\n",
       "America today is a nation with great challengesbut greater resources. An artist\n",
       "using statistics as a brush could paint two very different pictures of our\n",
       "country. One would have warning signs: increasing layoffs, rising energy prices,\n",
       "too many failing schools, persistent poverty, the stubborn vestiges of racism.\n",
       "Another picture would be full of blessings: a balanced budget, big surpluses, a\n",
       "military that is second to none, a country at peace with its neighbors,\n",
       "technology that is revolutionizing the world, and our greatest strength,\n",
       "concerned citizens who care for our country and for each other. Neither picture\n",
       "is complete in and of itself. And tonight I challenge and invite Congress to\n",
       "work with me to use the resources of one picture to repaint the otherto direct\n",
       "the advantages of our time to solve the problems of our people.\n",
       "\n",
       "Some of these resources will come from governmentsome, but not all. Year after\n",
       "year in Washington, budget debates seem to come down to an old, tired argument:\n",
       "on one side, those who want more government, regardless of the cost; on the\n",
       "other, those who want less government, regardless of the need.\n",
       "\n",
       "We should leave those arguments to the last century and chart a different\n",
       "course. Government has a role, and an important one. Yet too much government\n",
       "crowds out initiative and hard work, private charity and the private economy.\n",
       "Our new governing vision says government should be active, but limited, engaged,\n",
       "but not overbearing. My budget is based on that philosophy. It is reasonable and\n",
       "it is responsible. It meets our obligations and funds our growing needs. We\n",
       "increase spending next year for Social Security and Medicare and other\n",
       "entitlement programs by <span class='tex2jax_ignore'>$</span>81 billion. We have increased spending for\n",
       "discretionary programs by a very responsible 4 percent, above the rate of\n",
       "inflation. My plan pays down an unprecedented amount of our national debt, and\n",
       "then when money is still left over, my plan returns it to the people who earned\n",
       "it in the first place.\n",
       "\n",
       "A budgets impact is counted in dollars, but measured in lives. Excellent\n",
       "schools, quality health care, a secure retirement, a cleaner environment, a\n",
       "stronger defensethese are all important needs and we fund them.\n",
       "\n",
       "The highest percentage increase in our budget should go to our childrens\n",
       "education. Education is my top priority and by supporting this budget, you will\n",
       "make it yours as well. Reading is the foundation of all learning, so during the\n",
       "next 5 years, we triple spending, adding another <span class='tex2jax_ignore'>$</span>5 billion to help every child\n",
       "in America learn to read. Values are important, so we have tripled funding for\n",
       "character education to teach our children not only reading and writing, but\n",
       "right from wrong.\n",
       "\n",
       "We have increased funding to train and recruit teachers, because we know a good\n",
       "education starts with a good teacher. And I have a wonderful partner in this\n",
       "effort. I like teachers so much, I married one. Please help me salute our\n",
       "gracious First Lady, Laura Bush.\n",
       "\n",
       "Laura has begun a new effort to recruit Americans to the profession that will\n",
       "shape our future: teaching. Laura will travel across America, to promote sound\n",
       "teaching practices and early reading skills in our schools and in programs such\n",
       "as Head Start.\n",
       "\n",
       "When it comes to our schools, dollars alone do not always make the difference.\n",
       "Funding is important, and so is reform. So we must tie funding to higher\n",
       "standards and accountability for results.\n",
       "\n",
       "I believe in local control of schools: we should not and we will not run our\n",
       "public schools from Washington. Yet when the Federal Government spends tax\n",
       "dollars, we must insist on results. Children should be tested on basic reading\n",
       "and math skills every year, between grades three and eight. Measuring is the\n",
       "only way to know whether all our children are learningand I want to know,\n",
       "because I refuse to leave any child behind.\n",
       "\n",
       "Critics of testing contend it distracts from learning. They talk about\n",
       "teaching to the test. But let us put that logic to the test. If you test\n",
       "children on basic math and reading skills, and you are teaching to the test,\n",
       "you are teaching . . . math and reading. And that is the whole idea.\n",
       "\n",
       "As standards rise, local schools will need more flexibility to meet them. So we\n",
       "must streamline the dozens of Federal education programs into five and let\n",
       "States spend money in those categories as they see fit.\n",
       "\n",
       "Schools will be given a reasonable chance to improve, and the support to do so.\n",
       "Yet if they do not, if they continue to fail, we must give parents and students\n",
       "different optionsa better public school, a private school, tutoring, or a\n",
       "charter school. In the end, every child in a bad situation must be given a\n",
       "better choice, because when it comes to our children, failure is not an option.\n",
       "\n",
       "Another priority in my budget is to keep the vital promises of Medicare and\n",
       "Social Security, and together we will do so. To meet the health care needs of\n",
       "all Americas seniors, we double the Medicare budget over the next 10 years.\n",
       "\n",
       "My budget dedicates <span class='tex2jax_ignore'>$</span>238 billion to Medicare next year alone, enough to fund all\n",
       "current programs and to begin a new prescription drug benefit for lowincome\n",
       "seniors. No senior in America should have to choose between buying food and\n",
       "buying prescriptions. To make sure the retirement savings of Americas seniors\n",
       "are not diverted to any other programmy budget protects all <span class='tex2jax_ignore'>$</span>2.6 trillion of\n",
       "the Social Security surplus for Social Security and for Social Security alone.\n",
       "\n",
       "My budget puts a priority on access to health carewithout telling Americans\n",
       "what doctor they have to see or what coverage they must choose. Many working\n",
       "Americans do not have health care coverage. We will help them buy their own\n",
       "insurance with refundable tax credits. And to provide quality care in low-income\n",
       "neighborhoods, over the next 5 years we will double the number of people served\n",
       "at community health care centers. And we will address the concerns of those who\n",
       "have health coverage yet worry their insurance company does not care and will\n",
       "not pay. Together, this Congress and this President will find common ground to\n",
       "make sure doctors make medical decisions and patients get the health care they\n",
       "deserve with a Patients Bill of Rights. When it comes to their health, people\n",
       "want to get the medical care they need, not be forced to go to court because\n",
       "they did not get it. We will ensure access to the courts for those with\n",
       "legitimate claims, but first, let us put in place a strong independent review so\n",
       "we promote quality health care, not frivolous lawsuits.\n",
       "\n",
       "My budget also increases funding for medical research, which gives hope to many\n",
       "who struggle with serious disease. Our prayers tonight are with one of your own\n",
       "who is engaged in his own fight against cancer, a fine representative and a good\n",
       "man, Congressman JOE MOAKLEY. God bless you, JOE. And I can think of no more\n",
       "appropriate tribute to JOE than to have the Congress finish the job of doubling\n",
       "the budget for the National Institutes of Health. My New Freedom Initiative for\n",
       "Americans with Disabilities funds new technologies, expands opportunities to\n",
       "work, and makes our society more welcoming. For the more than 50 million\n",
       "Americans with disabilities, we must continue to break down barriers to\n",
       "equality.\n",
       "\n",
       "The budget I propose to you also supports the people who keep our country strong\n",
       "and free, the men and women who serve in the United States military. I am\n",
       "requesting <span class='tex2jax_ignore'>$</span>5.7 billion in increased military pay and benefits, and health care\n",
       "and housing. Our men and women in uniform give America their best and we owe\n",
       "them our support. Americas veterans honored their commitment to our country\n",
       "through their military service. I will honor our commitment to them with a\n",
       "billion dollar increase to ensure better access to quality care and faster\n",
       "decisions on benefit claims.\n",
       "\n",
       "My budget will improve our environment by accelerating the cleanup of toxic\n",
       "Brownfields. And I propose we make a major investment in conservation by fully\n",
       "funding the Land and Water Conservation Fund. Our National Parks have a special\n",
       "place in our countrys life. Our parks are places of great natural beauty and\n",
       "history. As good stewards, we must leave them better than we have found them, so\n",
       "I propose providing <span class='tex2jax_ignore'>$</span>4.9 billion in resources over 5 years for the upkeep of\n",
       "these national treasures.\n",
       "\n",
       "And my budget adopts a hopeful new approach to help the poor and disadvantaged.\n",
       "We must encourage and support the work of charities and faithbased and community\n",
       "groups that offer help and love one person at a time. These groups are working\n",
       "in every neighborhood in America, to fight homelessness and addiction and\n",
       "domestic violence, to provide a hot meal or a mentor or a safe haven for our\n",
       "children. Government should welcome these groups to apply for funds, not\n",
       "discriminate against them.\n",
       "\n",
       "Government cannot be replaced by charities or volunteers. And government should\n",
       "not fund religious activities. But our Nations should support the good works of\n",
       "these good people who are helping neighbors in need. So I am proposing allowing\n",
       "all taxpayers, whether they itemize or not, to deduct their charitable\n",
       "contributions. Estimates show this could encourage as much as <span class='tex2jax_ignore'>$</span>14 billion a year\n",
       "in new charitable givingmoney that will save and change lives.\n",
       "\n",
       "Our budget provides more than <span class='tex2jax_ignore'>$</span>700 million over the next 10 years for a Federal\n",
       "Compassion Capital Fund with a focused and noble mission: to provide a mentor to\n",
       "the more than 1 million children with a parent in prison, and to support other\n",
       "local efforts to fight illiteracy, teen pregnancy, drug addiction, and other\n",
       "difficult problems. With us tonight is the Mayor of Philadelphia. Please help me\n",
       "welcome Mayor John Street. Mayor Street has encouraged faith-based and community\n",
       "organizations to make a difference in Philadelphia and he has invited me to his\n",
       "city this summer, to see compassion in action.\n",
       "\n",
       "I am personally aware of just how effective the Mayor is. Mayor Street is a\n",
       "Democrat. Let the record show that I lost his city. But some things are bigger\n",
       "than politics. So I look forward to coming to your city to see your faithbased\n",
       "programs in action.\n",
       "\n",
       "As government promotes compassion, it also must promote justice. Too many of our\n",
       "citizens have cause to doubt our Nations justice when the law points a finger\n",
       "of suspicion at groups, instead of individuals. All our citizens are created\n",
       "equal and must be treated equally. Earlier today I asked Attorney General\n",
       "Ashcroft to develop specific recommendations to end racial profiling. It is\n",
       "wrong. We must end it. In so doing, we will not hinder the work of our Nations\n",
       "brave police officers. They protect us every day, often at great risk. But by\n",
       "stopping the abuses of a few, we will add to the public confidence our police\n",
       "officers earn and deserve.\n",
       "\n",
       "My budget has funded a responsible increase in our ongoing operations, it has\n",
       "funded our Nations important priorities, it has protected Social Security and\n",
       "Medicare, and our surpluses are big enough that there is still money left over.\n",
       "\n",
       "Many of you have talked about the need to pay down our national debt. I have\n",
       "listened, and I agree.\n",
       "\n",
       "My budget proposal pays down an unprecedented amount of public debt. We owe it\n",
       "to our children and grandchildren to act now, and I hope you will join me to pay\n",
       "down <span class='tex2jax_ignore'>$</span>2 trillion in debt during the next 10 years.\n",
       "\n",
       "At the end of those 10 years, we will have paid down all the debt that is\n",
       "available to retire. That is more debt repaid more quickly than has ever been\n",
       "repaid by any nation at any time in history.\n",
       "\n",
       "We should also prepare for the unexpected, for the uncertainties of the future.\n",
       "We should approach our Nations budget as any prudent family would, with a\n",
       "contingency fund for emergencies or additional spending needs.\n",
       "\n",
       "For example, after a strategic review, we may need to increase defense spending,\n",
       "we may need additional money for our farmers, or additional money to reform\n",
       "Medicare. And so my budget sets aside almost a trillion dollars over 10 years\n",
       "for additional needs . . . that is one trillion additional reasons you can feel\n",
       "comfortable supporting this budget. We have increased our budget at a\n",
       "responsible 4 percent, we have funded our priorities, we have paid down all the\n",
       "available debt, we have prepared for contingenciesand we still have money left\n",
       "over.\n",
       "\n",
       "Yogi Berra once said: When you come to a fork in the road, take it. Now we\n",
       "come to a fork in the road. We have two choices. Even though we have already met\n",
       "our needs, we could spend the money on more and bigger government. That is the\n",
       "road our Nation has traveled in recent years. Last year, government spending\n",
       "shot up 8 percent. That is far more than our economy grew, far more than\n",
       "personal income grew and far more than the rate of inflation. If you continue on\n",
       "that road, you will spend the surplus and have to dip into Social Security to\n",
       "pay other bills.\n",
       "\n",
       "Unrestrained government spending is a dangerous road to deficits, so we must\n",
       "take a different path. The other choice is to let the American people spend\n",
       "their own money to meet their own needs, to fund their own priorities and pay\n",
       "down their own debts. I hope you will join me and stand firmly on the side of\n",
       "the people.\n",
       "\n",
       "The growing surplus exists because taxes are too high and government is charging\n",
       "more than it needs. The people of America have been overcharged and on their\n",
       "behalf, I am here to ask for a refund.\n",
       "\n",
       "Some say my tax plan is too big, others say it is too small. I respectfully\n",
       "disagree. This tax relief is just right. I did not throw darts at a board to\n",
       "come up with a number for tax relief. I did not take a poll, or develop an\n",
       "arbitrary formula that might sound good. I looked at problems in the tax code\n",
       "and calculated the cost to fix them. A tax rate of 15 percent is too high for\n",
       "those who earn low wages, so we lowered the rate to 10 percent. No one should\n",
       "pay more than a third of the money they earn in Federal income taxes, so we\n",
       "lowered the top rate to 33 percent. This reform will be welcome relief for\n",
       "Americas small businesses, which often pay taxes at the highest rate, and help\n",
       "for small business means jobs for Americans.\n",
       "\n",
       "We simplified the tax code by reducing the number of tax rates from the current\n",
       "five rates to four lower ones: 10, 15, 25, and 33 percent. In my plan, no one is\n",
       "targeted in or targeted out . . . every one who pays income taxes will get tax\n",
       "relief.\n",
       "\n",
       "Our government should not tax, and thereby discourage marriage, so we reduced\n",
       "the marriage penalty. I want to help families rear and support their children,\n",
       "so we doubled the child credit to <span class='tex2jax_ignore'>$</span>1,000 per child. It is not fair to tax the\n",
       "same earnings twiceonce when you earn them, and again when you die, so we must\n",
       "repeal the death tax. These changes add up to significant help. A typical family\n",
       "with two children will save <span class='tex2jax_ignore'>$</span>1,600 a year on their Federal income taxes. Sixteen\n",
       "hundred dollars may not sound like a lot to some, but it means a lot to many\n",
       "families. Sixteen hundred dollars buys gas for two cars for an entire year, it\n",
       "pays tuition for a year at a community college, it pays the average family\n",
       "grocery bill for 3 months. That is real money.\n",
       "\n",
       "With us tonight, representing many American families, are Steven and Josefina\n",
       "Ramos. Please help me welcome them. The Ramoses are from Pennsylvania, but they\n",
       "could be from any one of your districts. Steven is a network administrator for a\n",
       "school district, Josefina is a Spanish teacher at a charter school, and they\n",
       "have a 2-yearold daughter, Lianna. Steven and Josefina tell me they pay almost\n",
       "<span class='tex2jax_ignore'>$</span>8,000 a year in Federal income taxes; my plan will same them more than <span class='tex2jax_ignore'>$</span>2,000.\n",
       "Let me tell you what Steven says:\n",
       "\n",
       "Two thousand dollars a year means a lot to my family. If we had this money, it\n",
       "would help us reach our goal of paying off our personal debt in two years.\n",
       "After that, Steven and Josefina want to start saving for Liannas college\n",
       "education. Government should never stand in the way of families achieving their\n",
       "dreams. The surplus is not the governments money, the surplus is the peoples\n",
       "money.\n",
       "\n",
       "For lower-income families, my tax relief plan restores basic fairness. Right\n",
       "now, complicated tax rules punish hard work. A waitress supporting two children\n",
       "on <span class='tex2jax_ignore'>$</span>25,000 a year can lose nearly half of every additional dollar she earns. Her\n",
       "overtime, her hardest hours, are taxed at nearly 50 percent. This sends a\n",
       "terrible message: You will never get ahead. But Americas message must be\n",
       "different: We must honor hard work, never punish it.\n",
       "\n",
       "With tax relief, overtime will no longer be overtax time for the waitress.\n",
       "People with the smallest incomes will get the highest percentage reductions. And\n",
       "millions of additional American families will be removed from the income tax\n",
       "rolls entirely.\n",
       "\n",
       "Tax relief is right and tax relief is urgent. The long economic expansion that\n",
       "began almost 10 years ago is faltering. Lower interest rates will eventually\n",
       "help, but we cannot assume they will do the job all by themselves. Forty years\n",
       "ago and then twenty years ago, two Presidents, one Democrat and one Republican,\n",
       "John F. Kennedy and Ronald Reagan, advocated tax cuts toin President Kennedys\n",
       "wordsget this country moving again.\n",
       "\n",
       "They knew then, what we must do now: To create economic growth and opportunity,\n",
       "we must put money back into the hands of the people who buy goods and create\n",
       "jobs.\n",
       "\n",
       "We must act quickly. The Chairman of the Federal Reserve has testified before\n",
       "Congress that tax cuts often come too late to stimulate economic recovery. So I\n",
       "want to work with you to give our economy an important jump start by making tax\n",
       "relief retroactive. We must act now because it is the right thing to do. We must\n",
       "also act now because we have other things to do. We must show courage to\n",
       "confront and resolve tough challenges: to restructure our Nations defenses, to\n",
       "meet our growing need for energy, and to reform Medicare and Social Security.\n",
       "America has a window of opportunity to extend and secure our present peace by\n",
       "promoting a distinctly American internationalism. We will work with our allies\n",
       "and friends to be a force for good and a champion of freedom. We will work for\n",
       "free markets and free trade and freedom from oppression. Nations making progress\n",
       "toward freedom will find America is their friend. We will promote our values,\n",
       "and we will promote peace. And we need a strong military to keep the peace. But\n",
       "our military was shaped to confront the challenges of the past. So I have asked\n",
       "the Secretary of Defense to review Americas armed forces and prepare to\n",
       "transform them to meet emerging threats. My budget makes a downpayment on the\n",
       "research and development that will be required. Yet, in our broader\n",
       "transformation effort, we must put strategy first, then spending. Our defense\n",
       "vision will drive our defense budget, not the other way around. Our Nation also\n",
       "needs a clear strategy to confront the threats of the 21st century, threats that\n",
       "are more widespread and less certain. They range from terrorists who threaten\n",
       "with bombs to tyrants and rogue nations intent on developing weapons of mass\n",
       "destruction. To protect our own people, our allies and friends, we must develop\n",
       "and we must deploy effective missile defenses.\n",
       "\n",
       "And as we transform our military, we can discard Cold War relics, and reduce our\n",
       "own nuclear forces to reflect todays needs.\n",
       "\n",
       "A strong America is the worlds best hope for peace and freedom. Yet the cause\n",
       "of freedom rests on more than our ability to defend ourselves and our allies.\n",
       "Freedom is exported every day, as we ship goods and products that improve the\n",
       "lives of millions of people. Free trade brings greater political and personal\n",
       "freedom.\n",
       "\n",
       "Each of the previous five Presidents has had the ability to negotiate\n",
       "farreaching trade agreements. Tonight I ask you to give me the strong hand of\n",
       "presidential trade promotion authority, and to do so quickly.\n",
       "\n",
       "As we meet tonight, many citizens are struggling with the high costs of energy.\n",
       "We have a serious energy problem that demands a national energy policy. The West\n",
       "is confronting a major energy shortage that has resulted in high prices and\n",
       "uncertainty. I have asked Federal agencies to work with California officials to\n",
       "help speed construction of new energy sources. And I have directed Vice\n",
       "President CHENEY, Commerce Secretary Evans, Energy Secretary Abraham, and other\n",
       "senior members of my Administration to recommend a national energy policy.\n",
       "\n",
       "Our energy demand outstrips our supply. We can produce more energy at home while\n",
       "protecting our environment, and we must. We can produce more electricity to meet\n",
       "demand, and we must. We can promote alternative energy sources and conservation,\n",
       "and we must. America must become more energy independent.\n",
       "\n",
       "Perhaps the biggest test of our foresight and courage will be reforming Medicare\n",
       "and Social Security. Medicares finances are strained and its coverage is\n",
       "outdated. Ninety-nine percent of employer-provided health plans offer some form\n",
       "of prescription drug coverage . . . Medicare does not. The framework for reform\n",
       "has been developed by Senators FRIST and BREAUX and Congressman THOMAS, and now,\n",
       "it is time to act. Medicare must be modernized. And we must make sure that every\n",
       "senior on Medicare can choose a health plan that offers prescription drugs.\n",
       "\n",
       "Seven years from now, the baby boom generation will begin to claim Social\n",
       "Security benefits. Everyone in this chamber knows that Social Security is not\n",
       "prepared to fully fund their retirement. And we only have a couple of years to\n",
       "get prepared. Without reform, this country will one day awaken to a stark\n",
       "choice: either a drastic rise in payroll taxes, or a radical cut in retirement\n",
       "benefits. There is a better way.\n",
       "\n",
       "This spring I will form a presidential commission to reform Social Security. The\n",
       "commission will make its recommendations by next fall. Reform should be based on\n",
       "these principles: It must preserve the benefits of all current retirees and\n",
       "those nearing retirement. It must return Social Security to sound financial\n",
       "footing. And it must offer personal savings accounts to younger workers who want\n",
       "them. Social Security now offers workers a return of less than 2 percent on the\n",
       "money they pay into the system. To save the system, we must increase that by\n",
       "allowing younger workers to make safe, sound investments at a higher rate of\n",
       "return.\n",
       "\n",
       "Ownership, access to wealth, and independence should not be the privilege of a\n",
       "few. They are the hope of every American . . . and we must make them the\n",
       "foundation of Social Security. By confronting the tough challenge of reform, by\n",
       "being responsible with our budget, we can earn the trust of the American people.\n",
       "And, we can add to that trust by enacting fair and balanced election and\n",
       "campaign finance reforms.\n",
       "\n",
       "The agenda I have set before you tonight is worthy of a great country. America\n",
       "is a nation at peace, but not a nation at rest. Much has been given to us, and\n",
       "much is expected. Let us agree to bridge old divides. But let us also agree that\n",
       "our good will must be dedicated to great goals. Bipartisanship is more than\n",
       "minding our manners, it is doing our duty. No one can speak in this Capitol and\n",
       "not be awed by its history. At so many turning points, debates in these chambers\n",
       "have reflected the collected or divided conscience of our country. And when we\n",
       "walk through Statuary Hall, and see those men and women of marble, we are\n",
       "reminded of their courage and achievement.\n",
       "\n",
       "Yet Americas purpose is never found in statues or history. Americas purpose\n",
       "always stands before us. Our generation must show courage in a time of blessing,\n",
       "as our Nation has always shown in times of crisis. And our courage issue by\n",
       "issue, can gather to greatness, and serve our country. This is the privilege,\n",
       "and responsibility, we share. And if we work together, we can prove that public\n",
       "service is noble.\n",
       "\n",
       "We all came here for a reason. We all have things we want to accomplish, and\n",
       "promises to keep. Juntos podemos, together we can. We can make Americans proud\n",
       "of their government. Together we can share in the credit of making our country\n",
       "more prosperous and generous and justand earn from our conscience and from our\n",
       "fellow citizens, the highest possible praise: well done, good and faithful\n",
       "servants.\n",
       "\n",
       "Thank you. Good night. And God Bless America.\n",
       "\n",
       "GEORGE W. BUSH.\n",
       "THE WHITE HOUSE, February 27, 2001.</p>"
      ],
      "text/plain": [
       "<IPython.core.display.HTML object>"
      ]
     },
     "execution_count": 3,
     "metadata": {},
     "output_type": "execute_result"
    }
   ],
   "source": [
    "corpus.display_document(0)"
   ]
  },
  {
   "cell_type": "code",
   "execution_count": 2,
   "metadata": {},
   "outputs": [
    {
     "data": {
      "text/plain": [
       "(array(['the'], dtype='<U10'), array([3.]))"
      ]
     },
     "execution_count": 2,
     "metadata": {},
     "output_type": "execute_result"
    }
   ],
   "source": [
    "corpus = text_data.Corpus([\"The cat is near the birds\", \"The birds are distressed\"])\n",
    "corpus.get_top_words(corpus.word_count_vector(), top_n=1)"
   ]
  },
  {
   "cell_type": "code",
   "execution_count": 4,
   "metadata": {},
   "outputs": [
    {
     "data": {
      "text/plain": [
       "(array(['the', 'birds'], dtype='<U10'), array([3., 2.]))"
      ]
     },
     "execution_count": 4,
     "metadata": {},
     "output_type": "execute_result"
    }
   ],
   "source": [
    "corpus.get_top_words(corpus.word_count_vector(), top_n=2)"
   ]
  },
  {
   "cell_type": "code",
   "execution_count": 2,
   "metadata": {},
   "outputs": [],
   "source": [
    "sotu_corpus = text_data.Corpus(list(sotu_speeches.speech[:5]), tokenizer)"
   ]
  },
  {
   "cell_type": "code",
   "execution_count": 3,
   "metadata": {
    "scrolled": true
   },
   "outputs": [
    {
     "data": {
      "text/plain": [
       "(array(['the', 'of'], dtype='<U16'), array([2379., 1540.]))"
      ]
     },
     "execution_count": 3,
     "metadata": {},
     "output_type": "execute_result"
    }
   ],
   "source": [
    "most_freq = sotu_corpus.index.tf_matrix()\n",
    "sotu_corpus.get_top_words(sotu_corpus.index.word_count_vector(), top_n=2)"
   ]
  },
  {
   "cell_type": "code",
   "execution_count": 5,
   "metadata": {},
   "outputs": [
    {
     "data": {
      "text/plain": [
       "5.0"
      ]
     },
     "execution_count": 5,
     "metadata": {},
     "output_type": "execute_result"
    }
   ],
   "source": [
    "sotu_corpus.index.document_count_vector().max()"
   ]
  },
  {
   "cell_type": "code",
   "execution_count": 5,
   "metadata": {},
   "outputs": [
    {
     "data": {
      "text/plain": [
       "23442"
      ]
     },
     "execution_count": 5,
     "metadata": {},
     "output_type": "execute_result"
    }
   ],
   "source": [
    "sotu_corpus.vocab_size"
   ]
  },
  {
   "cell_type": "code",
   "execution_count": null,
   "metadata": {},
   "outputs": [],
   "source": [
    "np.log(term_doc)"
   ]
  },
  {
   "cell_type": "code",
   "execution_count": 12,
   "metadata": {},
   "outputs": [
    {
     "data": {
      "text/plain": [
       "250650204"
      ]
     },
     "execution_count": 12,
     "metadata": {},
     "output_type": "execute_result"
    }
   ],
   "source": [
    "l, r = numpy.shape(term_doc)\n",
    "l * r"
   ]
  },
  {
   "cell_type": "code",
   "execution_count": null,
   "metadata": {},
   "outputs": [],
   "source": [
    "sotu_corpus.ngram_indexes[3].index.term_doc_matrix()"
   ]
  },
  {
   "cell_type": "code",
   "execution_count": 13,
   "metadata": {},
   "outputs": [
    {
     "data": {
      "text/plain": [
       "[28, 117, 168, 169, 173, 197, 213]"
      ]
     },
     "execution_count": 13,
     "metadata": {},
     "output_type": "execute_result"
    }
   ],
   "source": [
    "sotu_corpus.ngram_indexes[3].index.get_docs_with_word(\"corner of the\")"
   ]
  },
  {
   "cell_type": "code",
   "execution_count": 5,
   "metadata": {},
   "outputs": [
    {
     "name": "stdout",
     "output_type": "stream",
     "text": [
      "1.53 s ± 4.74 ms per loop (mean ± std. dev. of 7 runs, 1 loop each)\n"
     ]
    }
   ],
   "source": [
    "%timeit [tokenizer(doc) for doc in list(sotu_speeches.speech)]"
   ]
  },
  {
   "cell_type": "code",
   "execution_count": 6,
   "metadata": {},
   "outputs": [
    {
     "name": "stdout",
     "output_type": "stream",
     "text": [
      "2.04 s ± 55.5 ms per loop (mean ± std. dev. of 7 runs, 1 loop each)\n"
     ]
    }
   ],
   "source": [
    "from text_data.core import tokenize_many\n",
    "\n",
    "%timeit tokenize_many(list(sotu_speeches.speech), tokenizer)"
   ]
  },
  {
   "cell_type": "markdown",
   "metadata": {},
   "source": [
    "## Visualizing the Similarities\n",
    "\n",
    "Next, let's see what State of the Union Addresses are similar to each other. To do this, we'll create a heat map using `text_data` that takes our similarity matrix and graphically renders it so similar addresses will have a lighter color, while considerably different addresses will have a darker color.\n",
    "\n",
    "There are a few things to note here. First of all, you should see a very light diagonal straight down the middle. These are comparing the similarity of one document to itself. Naturally, our model knows that the two identical documents are pretty much the same.\n",
    "\n",
    "But you should also see a structure to this visualization. There are entire blocks of light colors and blocks of dark colors. If you look carefully at the indices, you'll notice that they appear in alphabetical order. What's happening is something that probably makes intuitive sense to you: the State of the Union Addresses that individual presidents give are pretty similar *to one another*.\n",
    "\n",
    "You can also see some patterns or outliers in the data that are interesting (but make sense). President George W. Bush's addresses look fairly similar to a lot of addresses from presidents that are fairly contemporary to him &mdash; presidents like Obama, Clinton, and Reagan. Finally, you can see that George Washington's inaugural address really looks unlike any of the other addresses (with the exception of itself); the heatmap is basically a dark blue line."
   ]
  },
  {
   "cell_type": "code",
   "execution_count": 4,
   "metadata": {},
   "outputs": [],
   "source": [
    "speech_indices = sotu_speeches.president + \", \" + sotu_speeches.year\n",
    "chart = text_data.multi_corpus.distance_heatmap(\n",
    "    distance_matrix,\n",
    "    speech_indices,\n",
    "    speech_indices,\n",
    "    \"SOTU Speech\",\n",
    "    \"SOTU Speech\"\n",
    ")\n",
    "chart.save(\"speech_similarity_matrix.png\")"
   ]
  },
  {
   "cell_type": "markdown",
   "metadata": {},
   "source": [
    "![A heatmap showing which State of the Union Addresses are Similar to Each Other](speech_similarity_matrix.png)"
   ]
  },
  {
   "cell_type": "markdown",
   "metadata": {},
   "source": [
    "While the first heatmap compares the entire corpus to itself, there's no need to do this. Here, I'm going to compare the speeches of Clinton and Obama to those of George W. and George HW Bush."
   ]
  },
  {
   "cell_type": "code",
   "execution_count": 5,
   "metadata": {},
   "outputs": [],
   "source": [
    "roosevelts = sotu_speeches[sotu_speeches.president == \"Roosevelt\"]\n",
    "post_war = sotu_speeches[\n",
    "    (sotu_speeches.president == \"Truman\") | (sotu_speeches.president == \"Eisenhower\")\n",
    "]\n",
    "compare_matrix = distance_matrix[roosevelts.index][:,post_war.index]\n",
    "heatmap = text_data.multi_corpus.distance_heatmap(\n",
    "    compare_matrix,\n",
    "    speech_indices.loc[roosevelts.index],\n",
    "    speech_indices.loc[post_war.index],\n",
    "    \"Roosevelt Speeches\",\n",
    "    \"Clinton and Obama Speeches\"\n",
    ")\n",
    "heatmap.save(\"recent_sotu_heatmap.png\")"
   ]
  },
  {
   "cell_type": "markdown",
   "metadata": {},
   "source": [
    "![A heatmap of the two Roosevelts, Truman and Eisenhower](recent_sotu_heatmap.png)"
   ]
  },
  {
   "cell_type": "markdown",
   "metadata": {},
   "source": [
    "Again, there's a pattern here, this one temporal. As you'll see, the first Roosevelt's speeches have a lot less in common to Eisenhower's and Truman's speeches. That makes sense, considering that the second Roosevelt served during the same general timeframe as the other two (even if the Second World War complicates things.\n",
    "\n",
    "## Final Exploration\n",
    "\n",
    "There's a lot more you can do with `text_data` to explore these similarities. I'm going to explore one way and hint at how you might extend that. In particular, I'm going to find the documents that are most similar to FDR's \"Four Freedoms\" speech, the 1941 State of the Union Address where FDR  argued that the United States needed to serve as \"an arsenal\" for its allies and spoke of democratic principles as they were most under attack.\n",
    "\n",
    "I'm going to start doing this by getting the 25 speeches that `Doc2Vec` thinks are most similar to this one, and I'm going to plot the top 15 results in `pandas`:"
   ]
  },
  {
   "cell_type": "code",
   "execution_count": 6,
   "metadata": {},
   "outputs": [
    {
     "data": {
      "text/html": [
       "<div>\n",
       "<style scoped>\n",
       "    .dataframe tbody tr th:only-of-type {\n",
       "        vertical-align: middle;\n",
       "    }\n",
       "\n",
       "    .dataframe tbody tr th {\n",
       "        vertical-align: top;\n",
       "    }\n",
       "\n",
       "    .dataframe thead th {\n",
       "        text-align: right;\n",
       "    }\n",
       "</style>\n",
       "<table border=\"1\" class=\"dataframe\">\n",
       "  <thead>\n",
       "    <tr style=\"text-align: right;\">\n",
       "      <th></th>\n",
       "      <th>president</th>\n",
       "      <th>year</th>\n",
       "      <th>speech</th>\n",
       "    </tr>\n",
       "  </thead>\n",
       "  <tbody>\n",
       "    <tr>\n",
       "      <th>61</th>\n",
       "      <td>Truman</td>\n",
       "      <td>1951</td>\n",
       "      <td>Mr. President, Mr. Speaker, Members of the Con...</td>\n",
       "    </tr>\n",
       "    <tr>\n",
       "      <th>161</th>\n",
       "      <td>Roosevelt</td>\n",
       "      <td>1940</td>\n",
       "      <td>Mr. Vice President, Mr. Speaker, Members of th...</td>\n",
       "    </tr>\n",
       "    <tr>\n",
       "      <th>26</th>\n",
       "      <td>Roosevelt</td>\n",
       "      <td>1943</td>\n",
       "      <td>Mr. Vice President, Mr. Speaker, Members of th...</td>\n",
       "    </tr>\n",
       "    <tr>\n",
       "      <th>183</th>\n",
       "      <td>Roosevelt</td>\n",
       "      <td>1944</td>\n",
       "      <td>To the Congress:\\n\\nThis Nation in the past tw...</td>\n",
       "    </tr>\n",
       "    <tr>\n",
       "      <th>21</th>\n",
       "      <td>Roosevelt</td>\n",
       "      <td>1942</td>\n",
       "      <td>In fulfilling my duty to report upon the State...</td>\n",
       "    </tr>\n",
       "    <tr>\n",
       "      <th>45</th>\n",
       "      <td>Roosevelt</td>\n",
       "      <td>1939</td>\n",
       "      <td>Mr. Vice President, Mr. Speaker, Members of th...</td>\n",
       "    </tr>\n",
       "    <tr>\n",
       "      <th>221</th>\n",
       "      <td>Truman</td>\n",
       "      <td>1953</td>\n",
       "      <td>To the Congress of the United States:\\n\\nI hav...</td>\n",
       "    </tr>\n",
       "    <tr>\n",
       "      <th>32</th>\n",
       "      <td>Kennedy</td>\n",
       "      <td>1963</td>\n",
       "      <td>Mr. Vice President, Mr. Speaker, Members of th...</td>\n",
       "    </tr>\n",
       "    <tr>\n",
       "      <th>157</th>\n",
       "      <td>Roosevelt</td>\n",
       "      <td>1945</td>\n",
       "      <td>To the Congress:\\n\\nIn considering the State o...</td>\n",
       "    </tr>\n",
       "    <tr>\n",
       "      <th>56</th>\n",
       "      <td>Truman</td>\n",
       "      <td>1952</td>\n",
       "      <td>Mr. President, Mr. Speaker, Members of the Con...</td>\n",
       "    </tr>\n",
       "    <tr>\n",
       "      <th>96</th>\n",
       "      <td>Eisenhower</td>\n",
       "      <td>1958</td>\n",
       "      <td>Mr. President, Mr. Speaker, Members of the 85t...</td>\n",
       "    </tr>\n",
       "    <tr>\n",
       "      <th>117</th>\n",
       "      <td>Johnson</td>\n",
       "      <td>1967</td>\n",
       "      <td>Mr. Speaker, Mr. Vice President, distinguished...</td>\n",
       "    </tr>\n",
       "    <tr>\n",
       "      <th>203</th>\n",
       "      <td>Nixon</td>\n",
       "      <td>1970</td>\n",
       "      <td>Mr. Speaker, Mr. President, my colleagues in t...</td>\n",
       "    </tr>\n",
       "    <tr>\n",
       "      <th>107</th>\n",
       "      <td>Eisenhower</td>\n",
       "      <td>1960</td>\n",
       "      <td>Mr. President, Mr. Speaker, Members of the 86t...</td>\n",
       "    </tr>\n",
       "    <tr>\n",
       "      <th>204</th>\n",
       "      <td>Johnson</td>\n",
       "      <td>1966</td>\n",
       "      <td>Mr. Speaker, Mr. President, Members of the Hou...</td>\n",
       "    </tr>\n",
       "  </tbody>\n",
       "</table>\n",
       "</div>"
      ],
      "text/plain": [
       "      president  year                                             speech\n",
       "61       Truman  1951  Mr. President, Mr. Speaker, Members of the Con...\n",
       "161   Roosevelt  1940  Mr. Vice President, Mr. Speaker, Members of th...\n",
       "26    Roosevelt  1943  Mr. Vice President, Mr. Speaker, Members of th...\n",
       "183   Roosevelt  1944  To the Congress:\\n\\nThis Nation in the past tw...\n",
       "21    Roosevelt  1942  In fulfilling my duty to report upon the State...\n",
       "45    Roosevelt  1939  Mr. Vice President, Mr. Speaker, Members of th...\n",
       "221      Truman  1953  To the Congress of the United States:\\n\\nI hav...\n",
       "32      Kennedy  1963  Mr. Vice President, Mr. Speaker, Members of th...\n",
       "157   Roosevelt  1945  To the Congress:\\n\\nIn considering the State o...\n",
       "56       Truman  1952  Mr. President, Mr. Speaker, Members of the Con...\n",
       "96   Eisenhower  1958  Mr. President, Mr. Speaker, Members of the 85t...\n",
       "117     Johnson  1967  Mr. Speaker, Mr. Vice President, distinguished...\n",
       "203       Nixon  1970  Mr. Speaker, Mr. President, my colleagues in t...\n",
       "107  Eisenhower  1960  Mr. President, Mr. Speaker, Members of the 86t...\n",
       "204     Johnson  1966  Mr. Speaker, Mr. President, Members of the Hou..."
      ]
     },
     "execution_count": 6,
     "metadata": {},
     "output_type": "execute_result"
    }
   ],
   "source": [
    "four_freedoms = sotu_speeches[sotu_speeches.year == \"1941\"].index[0]\n",
    "freedom_idxs, _ranks = zip(*model.docvecs.most_similar(four_freedoms, topn=25))\n",
    "near_four_freedoms = sotu_speeches.loc[list((*freedom_idxs, four_freedoms))]\n",
    "near_four_freedoms.head(15)"
   ]
  },
  {
   "cell_type": "markdown",
   "metadata": {},
   "source": [
    "Predictably, there are a lot of speeches from Roosevelt in that list (and interestingly, they're speeches he gave during the war). You can also see a fair amount of temporal clustering. But now I want to hint at how this kind of thing can be extended.\n",
    "\n",
    "I'm going to find the words that most distinguish the documents that are similar to Roosevelt's Four Freedoms speech from a background corpus of all of the SOTU speeches."
   ]
  },
  {
   "cell_type": "code",
   "execution_count": 7,
   "metadata": {},
   "outputs": [
    {
     "data": {
      "text/html": [
       "<p><b>Low Scores</b></p><table><thead><tr><th>Order</th><th>Word</th><th>Score</th></tr></thead><tbody><tr><td>1.</td><td>officers</td><td>-3.0808350286828308</td></tr><tr><td>2.</td><td>objects</td><td>-3.117887798901709</td></tr><tr><td>3.</td><td>tribes</td><td>-3.1245334627833383</td></tr><tr><td>4.</td><td>notes</td><td>-3.163506158320878</td></tr><tr><td>5.</td><td>ports</td><td>-3.185558219649298</td></tr><tr><td>6.</td><td>silver</td><td>-3.2192582319201986</td></tr><tr><td>7.</td><td>claims</td><td>-3.2314176003162762</td></tr><tr><td>8.</td><td>intercourse</td><td>-3.400612267993276</td></tr><tr><td>9.</td><td>mexico</td><td>-3.4735328097059446</td></tr><tr><td>10.</td><td>spain</td><td>-3.600418221679119</td></tr></tbody></table><p><b>High Scores</b></p><table><thead><tr><th>Order</th><th>Word</th><th>Score</th></tr></thead><tbody><tr><td>1.</td><td>kremlin</td><td>2.5861379733056165</td></tr><tr><td>2.</td><td>hitler</td><td>2.5861379733056165</td></tr><tr><td>3.</td><td>nazis</td><td>2.5861242095684798</td></tr><tr><td>4.</td><td>appeasement</td><td>2.5861035643758257</td></tr><tr><td>5.</td><td>hemispheric</td><td>2.586096682755084</td></tr><tr><td>6.</td><td>numerically</td><td>2.5860898011894147</td></tr><tr><td>7.</td><td>hats</td><td>2.5860898011894147</td></tr><tr><td>8.</td><td>amphibious</td><td>2.5860898011894147</td></tr><tr><td>9.</td><td>versus</td><td>2.5860829196788124</td></tr><tr><td>10.</td><td>stalinist</td><td>2.5860829196788124</td></tr></tbody></table>"
      ],
      "text/plain": [
       "<IPython.core.display.HTML object>"
      ]
     },
     "execution_count": 7,
     "metadata": {},
     "output_type": "execute_result"
    }
   ],
   "source": [
    "four_freedoms_corpus = text_data.Corpus(near_four_freedoms.speech.to_list(), tokenizer)\n",
    "\n",
    "text_data.multi_corpus.display_top_differences(\n",
    "    four_freedoms_corpus,\n",
    "    sotu_corpus,\n",
    "    text_data.multi_corpus.log_odds_ratio\n",
    ")"
   ]
  },
  {
   "cell_type": "markdown",
   "metadata": {},
   "source": [
    "Predictably, words related to the Nazis and to wars are *highly associated* with the Four Freedoms speech and similar speeches, while old-timey words about silver or Mexico are much less common.\n",
    "\n",
    "Finally, we can look to see examples of certain words appearing. (We could do the same with entire documents, but the State of the Union Addresses are probably too long for this to be all that useful."
   ]
  },
  {
   "cell_type": "code",
   "execution_count": 8,
   "metadata": {},
   "outputs": [
    {
     "data": {
      "text/html": [
       "<p><b>Showing Result 0 (Document ID 25)</b></p><p style='white-space=pre-wrap;'><b>&hellip;</b>fthearted; but we\n",
       "cannot afford to be soft-headed.\n",
       "\n",
       "We must always be wary of those who with sounding brass and a tinkling\n",
       "cymbal preach the \"ism\" of <b>appeasement</b>.\n",
       "\n",
       "We must especially beware of that small group of selfish men who would clip\n",
       "the wings of the American eagle in order to feather their own nests.\n",
       "\n",
       "I<b>&hellip;</b></p><p><b>Showing Result 1 (Document ID 18)</b></p><p style='white-space=pre-wrap;'><b>&hellip;</b>e community\n",
       "of nations holds dear. The world has said this aggression would not stand,\n",
       "and it will not stand.\n",
       "\n",
       "Together, we have resisted the trap of <b>appeasement</b>, cynicism and isolation\n",
       "that gives temptation to tyrants. The world has answered Saddam's invasion\n",
       "with 12 United Nations resolutions, starting with <b>&hellip;</b></p><p><b>Showing Result 2 (Document ID 0)</b></p><p style='white-space=pre-wrap;'><b>&hellip;</b>aid\n",
       "down in its charter.\n",
       "\n",
       "We are willing, as we have always been, to negotiate honorable settlements\n",
       "with the Soviet Union. But we will not engage in <b>appeasement</b>.\n",
       "\n",
       "The Soviet rulers have made it clear that we must have strength as well as\n",
       "right on our side. If we build our strength--and we are building it--the<b>&hellip;</b></p><p><b>Showing Result 3 (Document ID 9)</b></p><p style='white-space=pre-wrap;'><b>&hellip;</b> road to peace. We have increased the power and unity of the free\n",
       "world. And while we were doing this, we have avoided world war on the one\n",
       "hand, and <b>appeasement</b> on the other. This is a hard road to follow, but the\n",
       "events of the last year show that it is the right road to peace.\n",
       "\n",
       "We cannot expect to complete t<b>&hellip;</b></p><p><b>Showing Result 4 (Document ID 7)</b></p><p style='white-space=pre-wrap;'><b>&hellip;</b>hat, in the end, it is the only way\n",
       "to assure the security of all without impairing the interests of any. Nor\n",
       "do we mistake honorable negotiation for <b>appeasement</b>. While we shall never\n",
       "weary in the defense of freedom, neither shall we ever abandon the pursuit\n",
       "of peace.\n",
       "\n",
       "In this quest, the United Nations require<b>&hellip;</b></p><p><b>Showing Result 5 (Document ID 16)</b></p><p style='white-space=pre-wrap;'><b>&hellip;</b>at our presence in Berlin, our\n",
       "free access thereto, and the freedom of two million West Berliners would\n",
       "not be surrendered either to force or through <b>appeasement</b>--and to maintain\n",
       "those rights and obligations, we are prepared to talk, when appropriate,\n",
       "and to fight, if necessary. Every member of NATO stands wit<b>&hellip;</b></p>"
      ],
      "text/plain": [
       "<IPython.core.display.HTML object>"
      ]
     },
     "execution_count": 8,
     "metadata": {},
     "output_type": "execute_result"
    }
   ],
   "source": [
    "four_freedoms_corpus.display_search_results(\"appeasement\", window_size=150)"
   ]
  },
  {
   "cell_type": "markdown",
   "metadata": {},
   "source": [
    "## Conclusion\n",
    "\n",
    "There's a lot more that you could do to explore this data. But hopefully this provides a decent overview of how you can use the heatmap function in `text_data` to figure out what documents are similar to each other and to visually identify patterns. And hopefully, you can imagine ways in which you could take information you have about document similarity &mdash; either from this library or from another &mdash; and search through those similar (or different documents) to try to identify meaningful patterns."
   ]
  }
 ],
 "metadata": {
  "kernelspec": {
   "display_name": "text_data",
   "language": "python",
   "name": "text_data"
  },
  "language_info": {
   "codemirror_mode": {
    "name": "ipython",
    "version": 3
   },
   "file_extension": ".py",
   "mimetype": "text/x-python",
   "name": "python",
   "nbconvert_exporter": "python",
   "pygments_lexer": "ipython3",
   "version": "3.8.3"
  }
 },
 "nbformat": 4,
 "nbformat_minor": 4
}
