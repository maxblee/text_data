{
 "cells": [
  {
   "cell_type": "code",
   "execution_count": 1,
   "metadata": {},
   "outputs": [],
   "source": [
    "import sys; sys.path.append(\"..\")\n",
    "import text_data"
   ]
  },
  {
   "cell_type": "code",
   "execution_count": 2,
   "metadata": {
    "scrolled": true
   },
   "outputs": [
    {
     "data": {
      "text/html": [
       "<p><b>Showing Result 0</b></p><p style='white-space=pre-wrap;'><b>&hellip;</b><b>apple</b> ran to another <b>apple</b> isdoajfiosajoifsaji<b>&hellip;</b></p>"
      ],
      "text/plain": [
       "<IPython.core.display.HTML object>"
      ]
     },
     "execution_count": 2,
     "metadata": {},
     "output_type": "execute_result"
    }
   ],
   "source": [
    "from IPython import display\n",
    "\n",
    "doc_window = 20\n",
    "corpus = text_data.Corpus([\"The apple ran to another apple isdoajfiosajoifsajiosjfiojdos\", \"I am wonderful\"])\n",
    "search_res = corpus.ranked_search(\"apple\")\n",
    "for count, doc in enumerate(search_res):\n",
    "    if len(doc) > 0:\n",
    "        # this is the same for every doc in iterable\n",
    "        search_display = f\"<p><b>Showing Result {count}</b></p><p style='white-space=pre-wrap;'>\"\n",
    "        highlight_doc = doc[0]\n",
    "        sel_doc = corpus.documents[highlight_doc.doc_id]\n",
    "        sel_start = max(0, highlight_doc.raw_start - doc_window)\n",
    "        sel_end = min(len(sel_doc), highlight_doc.raw_end + doc_window)\n",
    "        if highlight_doc.raw_start - doc_window > 0:\n",
    "            search_display += \"<b>&hellip;</b>\"\n",
    "        show_text = sel_doc[sel_start:sel_end]\n",
    "        current_idx = sel_start\n",
    "        for item in sorted(filter(lambda x: x.raw_end >= sel_start and x.raw_start <= sel_end, doc)):\n",
    "            search_display += sel_doc[current_idx:item.raw_start]\n",
    "            search_display += f\"<b>{sel_doc[item.raw_start:item.raw_end]}</b>\"\n",
    "            current_idx = item.raw_end\n",
    "        search_display += sel_doc[current_idx:max(current_idx, sel_end)]\n",
    "        if highlight_doc.raw_end + doc_window < len(sel_doc):\n",
    "            search_display += \"<b>&hellip;</b>\"\n",
    "        search_display += \"</p>\"\n",
    "display.HTML(search_display)"
   ]
  },
  {
   "cell_type": "code",
   "execution_count": 3,
   "metadata": {},
   "outputs": [
    {
     "data": {
      "text/html": [
       "<p><b>Showing Result 0 (Document ID 0)</b></p><p style='white-space=pre-wrap;'><b>&hellip;</b><b>apple</b> ran to another <b>apple</b> isdoajfiosajoifsaji<b>&hellip;</b></p>"
      ],
      "text/plain": [
       "<IPython.core.display.HTML object>"
      ]
     },
     "execution_count": 3,
     "metadata": {},
     "output_type": "execute_result"
    }
   ],
   "source": [
    "corpus.display_search_results(\"apple\", window_size=20)"
   ]
  },
  {
   "cell_type": "code",
   "execution_count": 4,
   "metadata": {},
   "outputs": [
    {
     "data": {
      "text/html": [
       "<p><b>Showing Result 0 (Document ID 0)</b></p><p style='white-space=pre-wrap;'>The <b>apple</b> ran to another <b>apple</b> isdoajfiosajoifsajiosjfiojdos</p><p><b>Showing Result 1 (Document ID 2)</b></p><p style='white-space=pre-wrap;'><b>apple</b> ran</p>"
      ],
      "text/plain": [
       "<IPython.core.display.HTML object>"
      ]
     },
     "execution_count": 4,
     "metadata": {},
     "output_type": "execute_result"
    }
   ],
   "source": [
    "corpus.update([\"apple ran\"])\n",
    "corpus.display_search_results(\"apple\")"
   ]
  },
  {
   "cell_type": "code",
   "execution_count": 5,
   "metadata": {},
   "outputs": [
    {
     "data": {
      "text/html": [
       "<p><b>Showing Result 0 (Document ID 0)</b></p><p style='white-space=pre-wrap;'>The <b>apple</b> ran to another <b>apple</b> isdoajfiosajoifsajiosjfiojdos</p>"
      ],
      "text/plain": [
       "<IPython.core.display.HTML object>"
      ]
     },
     "execution_count": 5,
     "metadata": {},
     "output_type": "execute_result"
    }
   ],
   "source": [
    "corpus.display_search_results(\"apple\", max_results=1)"
   ]
  },
  {
   "cell_type": "code",
   "execution_count": null,
   "metadata": {},
   "outputs": [],
   "source": []
  }
 ],
 "metadata": {
  "kernelspec": {
   "display_name": "text_data",
   "language": "python",
   "name": "text_data"
  },
  "language_info": {
   "codemirror_mode": {
    "name": "ipython",
    "version": 3
   },
   "file_extension": ".py",
   "mimetype": "text/x-python",
   "name": "python",
   "nbconvert_exporter": "python",
   "pygments_lexer": "ipython3",
   "version": "3.8.2"
  }
 },
 "nbformat": 4,
 "nbformat_minor": 4
}
