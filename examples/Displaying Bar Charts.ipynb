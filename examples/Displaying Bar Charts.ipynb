{
 "cells": [
  {
   "cell_type": "code",
   "execution_count": 1,
   "metadata": {},
   "outputs": [],
   "source": [
    "import text_data"
   ]
  },
  {
   "cell_type": "code",
   "execution_count": 2,
   "metadata": {},
   "outputs": [
    {
     "data": {
      "text/html": [
       "\n",
       "<div id=\"altair-viz-2d3c9fe9c9994f3a8964cd989ec7e8bf\"></div>\n",
       "<script type=\"text/javascript\">\n",
       "  (function(spec, embedOpt){\n",
       "    let outputDiv = document.currentScript.previousElementSibling;\n",
       "    if (outputDiv.id !== \"altair-viz-2d3c9fe9c9994f3a8964cd989ec7e8bf\") {\n",
       "      outputDiv = document.getElementById(\"altair-viz-2d3c9fe9c9994f3a8964cd989ec7e8bf\");\n",
       "    }\n",
       "    const paths = {\n",
       "      \"vega\": \"https://cdn.jsdelivr.net/npm//vega@5?noext\",\n",
       "      \"vega-lib\": \"https://cdn.jsdelivr.net/npm//vega-lib?noext\",\n",
       "      \"vega-lite\": \"https://cdn.jsdelivr.net/npm//vega-lite@4.8.1?noext\",\n",
       "      \"vega-embed\": \"https://cdn.jsdelivr.net/npm//vega-embed@6?noext\",\n",
       "    };\n",
       "\n",
       "    function loadScript(lib) {\n",
       "      return new Promise(function(resolve, reject) {\n",
       "        var s = document.createElement('script');\n",
       "        s.src = paths[lib];\n",
       "        s.async = true;\n",
       "        s.onload = () => resolve(paths[lib]);\n",
       "        s.onerror = () => reject(`Error loading script: ${paths[lib]}`);\n",
       "        document.getElementsByTagName(\"head\")[0].appendChild(s);\n",
       "      });\n",
       "    }\n",
       "\n",
       "    function showError(err) {\n",
       "      outputDiv.innerHTML = `<div class=\"error\" style=\"color:red;\">${err}</div>`;\n",
       "      throw err;\n",
       "    }\n",
       "\n",
       "    function displayChart(vegaEmbed) {\n",
       "      vegaEmbed(outputDiv, spec, embedOpt)\n",
       "        .catch(err => showError(`Javascript Error: ${err.message}<br>This usually means there's a typo in your chart specification. See the javascript console for the full traceback.`));\n",
       "    }\n",
       "\n",
       "    if(typeof define === \"function\" && define.amd) {\n",
       "      requirejs.config({paths});\n",
       "      require([\"vega-embed\"], displayChart, err => showError(`Error loading script: ${err.message}`));\n",
       "    } else if (typeof vegaEmbed === \"function\") {\n",
       "      displayChart(vegaEmbed);\n",
       "    } else {\n",
       "      loadScript(\"vega\")\n",
       "        .then(() => loadScript(\"vega-lite\"))\n",
       "        .then(() => loadScript(\"vega-embed\"))\n",
       "        .catch(showError)\n",
       "        .then(() => displayChart(vegaEmbed));\n",
       "    }\n",
       "  })({\"config\": {\"view\": {\"continuousWidth\": 400, \"continuousHeight\": 300}}, \"data\": {\"values\": [{\"Left\": 0, \"Right\": 0, \"Similarity\": 0.28516057}, {\"Left\": 0, \"Right\": 1, \"Similarity\": 0.66263986}, {\"Left\": 0, \"Right\": 2, \"Similarity\": 0.14035872}, {\"Left\": 1, \"Right\": 0, \"Similarity\": 0.19902483}, {\"Left\": 1, \"Right\": 1, \"Similarity\": 0.8417039}, {\"Left\": 1, \"Right\": 2, \"Similarity\": 0.08906406}, {\"Left\": 2, \"Right\": 0, \"Similarity\": 0.16129091}, {\"Left\": 2, \"Right\": 1, \"Similarity\": 0.496034}, {\"Left\": 2, \"Right\": 2, \"Similarity\": 0.01674378}, {\"Left\": 3, \"Right\": 0, \"Similarity\": 0.03662033}, {\"Left\": 3, \"Right\": 1, \"Similarity\": 0.07413737}, {\"Left\": 3, \"Right\": 2, \"Similarity\": 0.02593804}, {\"Left\": 4, \"Right\": 0, \"Similarity\": 0.02896413}, {\"Left\": 4, \"Right\": 1, \"Similarity\": 0.22650883}, {\"Left\": 4, \"Right\": 2, \"Similarity\": -0.07501236}, {\"Left\": 5, \"Right\": 0, \"Similarity\": 0.11106808}, {\"Left\": 5, \"Right\": 1, \"Similarity\": 0.10631508}, {\"Left\": 5, \"Right\": 2, \"Similarity\": -0.0221208}, {\"Left\": 6, \"Right\": 0, \"Similarity\": 0.01590652}, {\"Left\": 6, \"Right\": 1, \"Similarity\": 0.23851512}, {\"Left\": 6, \"Right\": 2, \"Similarity\": 0.00261785}, {\"Left\": 7, \"Right\": 0, \"Similarity\": 0.08765563}, {\"Left\": 7, \"Right\": 1, \"Similarity\": 0.15909672}, {\"Left\": 7, \"Right\": 2, \"Similarity\": -0.00087296}, {\"Left\": 8, \"Right\": 0, \"Similarity\": 0.07605617}, {\"Left\": 8, \"Right\": 1, \"Similarity\": 0.15806876}, {\"Left\": 8, \"Right\": 2, \"Similarity\": -0.02020864}, {\"Left\": 9, \"Right\": 0, \"Similarity\": 0.12245303}, {\"Left\": 9, \"Right\": 1, \"Similarity\": 0.03508809}, {\"Left\": 9, \"Right\": 2, \"Similarity\": 0.25373662}, {\"Left\": 10, \"Right\": 0, \"Similarity\": 0.17189527}, {\"Left\": 10, \"Right\": 1, \"Similarity\": 0.09340437}, {\"Left\": 10, \"Right\": 2, \"Similarity\": 0.28971907}]}, \"mark\": \"rect\", \"encoding\": {\"color\": {\"type\": \"quantitative\", \"field\": \"Similarity\"}, \"tooltip\": [{\"type\": \"ordinal\", \"field\": \"Left\"}, {\"type\": \"ordinal\", \"field\": \"Right\"}, {\"type\": \"quantitative\", \"field\": \"Similarity\"}], \"x\": {\"type\": \"ordinal\", \"field\": \"Left\"}, \"y\": {\"type\": \"ordinal\", \"field\": \"Right\"}}, \"$schema\": \"https://vega.github.io/schema/vega-lite/v4.8.1.json\"}, {\"mode\": \"vega-lite\"});\n",
       "</script>"
      ],
      "text/plain": [
       "alt.Chart(...)"
      ]
     },
     "execution_count": 2,
     "metadata": {},
     "output_type": "execute_result"
    }
   ],
   "source": [
    "import numpy as np\n",
    "\n",
    "arr = np.array([[ 0.28516057,  0.66263986,  0.14035872],\n",
    "       [ 0.19902483,  0.8417039 ,  0.08906406],\n",
    "       [ 0.16129091,  0.496034  ,  0.01674378],\n",
    "       [ 0.03662033,  0.07413737,  0.02593804],\n",
    "       [ 0.02896413,  0.22650883, -0.07501236],\n",
    "       [ 0.11106808,  0.10631508, -0.0221208 ],\n",
    "       [ 0.01590652,  0.23851512,  0.00261785],\n",
    "       [ 0.08765563,  0.15909672, -0.00087296],\n",
    "       [ 0.07605617,  0.15806876, -0.02020864],\n",
    "       [ 0.12245303,  0.03508809,  0.25373662],\n",
    "       [ 0.17189527,  0.09340437,  0.28971907]])\n",
    "\n",
    "text_data.multi_corpus.distance_heatmap(arr)"
   ]
  },
  {
   "cell_type": "code",
   "execution_count": 3,
   "metadata": {},
   "outputs": [
    {
     "data": {
      "text/html": [
       "<p><b>Showing results for 2 corpuses</b></p><style>.newtab { padding-left: 4ch;}</style><div class='newtab'><p><b>Corpus 0</b></p><div class='newtab'><p><b>Showing Result 0 (Document ID 0)</b></p><p style='white-space=pre-wrap;'>I like my <b>phone</b></p><p><b>Showing Result 1 (Document ID 1)</b></p><p style='white-space=pre-wrap;'>My <b>phone</b> is not good.</p></div><p><b>Corpus 1</b></p><div class='newtab'><p><b>Showing Result 0 (Document ID 1)</b></p><p style='white-space=pre-wrap;'>My <b>phone</b> sucks</p></div></div>"
      ],
      "text/plain": [
       "<IPython.core.display.HTML object>"
      ]
     },
     "execution_count": 3,
     "metadata": {},
     "output_type": "execute_result"
    }
   ],
   "source": [
    "messages = [\n",
    "    # Smartphones\n",
    "    \"I like my phone\",\n",
    "    \"My phone is not good.\",\n",
    "    \"Your cellphone looks great.\",\n",
    "\n",
    "    # Weather\n",
    "    \"Will it snow tomorrow?\",\n",
    "    \"Recently a lot of hurricanes have hit the US\",\n",
    "    \"Global warming is real\",\n",
    "\n",
    "    # Food and health\n",
    "    \"An apple a day, keeps the doctors away\",\n",
    "    \"Eating strawberries is healthy\",\n",
    "    \"Is paleo better than keto?\",\n",
    "\n",
    "    # Asking about age\n",
    "    \"How old are you?\",\n",
    "    \"what is your age?\",\n",
    "]\n",
    "new_embeds = [\n",
    "    \"I am wonderful\",\n",
    "    \"My phone sucks\",\n",
    "    \"What is this\"\n",
    "]\n",
    "corpus_1 = text_data.Corpus(messages)\n",
    "corpus_2 = text_data.Corpus(new_embeds)\n",
    "text_data.multi_corpus.display_multiple_searches([corpus_1, corpus_2], \"phone\")"
   ]
  },
  {
   "cell_type": "code",
   "execution_count": 4,
   "metadata": {},
   "outputs": [
    {
     "data": {
      "text/html": [
       "<style>.newtab { padding-left: 4ch;}</style><p><b>Showing corpus 1 Results</b></p><div class='newtab'><p><b>Document at index 0</b></p><p>I like my phone</p><p><b>Document at index 1</b></p><p>My phone is not good.</p><p><b>Document at index 2</b></p><p>Your cellphone looks great.</p></div><p><b>Showing corpus 2 Results</b></p><div class='newtab'><p><b>Document at index 1</b></p><p>My phone sucks</p></div>"
      ],
      "text/plain": [
       "<IPython.core.display.HTML object>"
      ]
     },
     "execution_count": 4,
     "metadata": {},
     "output_type": "execute_result"
    }
   ],
   "source": [
    "text_data.multi_corpus.display_documents([corpus_1, corpus_2], [[0, 1, 2], [1]])"
   ]
  },
  {
   "cell_type": "code",
   "execution_count": 5,
   "metadata": {},
   "outputs": [
    {
     "data": {
      "text/html": [
       "\n",
       "<div id=\"altair-viz-e91f32eddca04c3785c7bb9fc931cdaa\"></div>\n",
       "<script type=\"text/javascript\">\n",
       "  (function(spec, embedOpt){\n",
       "    let outputDiv = document.currentScript.previousElementSibling;\n",
       "    if (outputDiv.id !== \"altair-viz-e91f32eddca04c3785c7bb9fc931cdaa\") {\n",
       "      outputDiv = document.getElementById(\"altair-viz-e91f32eddca04c3785c7bb9fc931cdaa\");\n",
       "    }\n",
       "    const paths = {\n",
       "      \"vega\": \"https://cdn.jsdelivr.net/npm//vega@5?noext\",\n",
       "      \"vega-lib\": \"https://cdn.jsdelivr.net/npm//vega-lib?noext\",\n",
       "      \"vega-lite\": \"https://cdn.jsdelivr.net/npm//vega-lite@4.8.1?noext\",\n",
       "      \"vega-embed\": \"https://cdn.jsdelivr.net/npm//vega-embed@6?noext\",\n",
       "    };\n",
       "\n",
       "    function loadScript(lib) {\n",
       "      return new Promise(function(resolve, reject) {\n",
       "        var s = document.createElement('script');\n",
       "        s.src = paths[lib];\n",
       "        s.async = true;\n",
       "        s.onload = () => resolve(paths[lib]);\n",
       "        s.onerror = () => reject(`Error loading script: ${paths[lib]}`);\n",
       "        document.getElementsByTagName(\"head\")[0].appendChild(s);\n",
       "      });\n",
       "    }\n",
       "\n",
       "    function showError(err) {\n",
       "      outputDiv.innerHTML = `<div class=\"error\" style=\"color:red;\">${err}</div>`;\n",
       "      throw err;\n",
       "    }\n",
       "\n",
       "    function displayChart(vegaEmbed) {\n",
       "      vegaEmbed(outputDiv, spec, embedOpt)\n",
       "        .catch(err => showError(`Javascript Error: ${err.message}<br>This usually means there's a typo in your chart specification. See the javascript console for the full traceback.`));\n",
       "    }\n",
       "\n",
       "    if(typeof define === \"function\" && define.amd) {\n",
       "      requirejs.config({paths});\n",
       "      require([\"vega-embed\"], displayChart, err => showError(`Error loading script: ${err.message}`));\n",
       "    } else if (typeof vegaEmbed === \"function\") {\n",
       "      displayChart(vegaEmbed);\n",
       "    } else {\n",
       "      loadScript(\"vega\")\n",
       "        .then(() => loadScript(\"vega-lite\"))\n",
       "        .then(() => loadScript(\"vega-embed\"))\n",
       "        .catch(showError)\n",
       "        .then(() => displayChart(vegaEmbed));\n",
       "    }\n",
       "  })({\"config\": {\"view\": {\"continuousWidth\": 400, \"continuousHeight\": 300}}, \"data\": {\"values\": [{\"Score\": -1.8465677057230503, \"Frequency\": 0.015625, \"Word\": \"am\"}, {\"Score\": -1.8465677057230503, \"Frequency\": 0.015625, \"Word\": \"sucks\"}, {\"Score\": -1.8465677057230503, \"Frequency\": 0.015625, \"Word\": \"this\"}, {\"Score\": -1.8465677057230503, \"Frequency\": 0.015625, \"Word\": \"wonderful\"}, {\"Score\": -1.8281450781700144, \"Frequency\": 0.03125, \"Word\": \"i\"}, {\"Score\": -1.8281450781700144, \"Frequency\": 0.03125, \"Word\": \"what\"}, {\"Score\": -1.8100412156395962, \"Frequency\": 0.046875, \"Word\": \"my\"}, {\"Score\": -1.8100412156395962, \"Frequency\": 0.046875, \"Word\": \"phone\"}, {\"Score\": -1.7575340833526527, \"Frequency\": 0.09375, \"Word\": \"is\"}, {\"Score\": -1.7087983205374484, \"Frequency\": 0.015625, \"Word\": \"age\"}, {\"Score\": -1.7087983205374484, \"Frequency\": 0.015625, \"Word\": \"an\"}, {\"Score\": -1.7087983205374484, \"Frequency\": 0.015625, \"Word\": \"apple\"}, {\"Score\": -1.7087983205374484, \"Frequency\": 0.015625, \"Word\": \"are\"}, {\"Score\": -1.7087983205374484, \"Frequency\": 0.015625, \"Word\": \"away\"}, {\"Score\": -1.7087983205374484, \"Frequency\": 0.015625, \"Word\": \"better\"}, {\"Score\": -1.7087983205374484, \"Frequency\": 0.015625, \"Word\": \"cellphone\"}, {\"Score\": -1.7087983205374484, \"Frequency\": 0.015625, \"Word\": \"day\"}, {\"Score\": -1.7087983205374484, \"Frequency\": 0.015625, \"Word\": \"doctors\"}, {\"Score\": -1.7087983205374484, \"Frequency\": 0.015625, \"Word\": \"eating\"}, {\"Score\": -1.7087983205374484, \"Frequency\": 0.015625, \"Word\": \"global\"}, {\"Score\": -1.7087983205374484, \"Frequency\": 0.015625, \"Word\": \"good\"}, {\"Score\": -1.7087983205374484, \"Frequency\": 0.015625, \"Word\": \"great\"}, {\"Score\": -1.7087983205374484, \"Frequency\": 0.015625, \"Word\": \"have\"}, {\"Score\": -1.7087983205374484, \"Frequency\": 0.015625, \"Word\": \"healthy\"}, {\"Score\": -1.7087983205374484, \"Frequency\": 0.015625, \"Word\": \"hit\"}, {\"Score\": -1.7087983205374484, \"Frequency\": 0.015625, \"Word\": \"how\"}, {\"Score\": -1.7087983205374484, \"Frequency\": 0.015625, \"Word\": \"hurricanes\"}, {\"Score\": -1.7087983205374484, \"Frequency\": 0.015625, \"Word\": \"it\"}, {\"Score\": -1.7087983205374484, \"Frequency\": 0.015625, \"Word\": \"keeps\"}, {\"Score\": -1.7087983205374484, \"Frequency\": 0.015625, \"Word\": \"keto\"}, {\"Score\": -1.7087983205374484, \"Frequency\": 0.015625, \"Word\": \"like\"}, {\"Score\": -1.7087983205374484, \"Frequency\": 0.015625, \"Word\": \"looks\"}, {\"Score\": -1.7087983205374484, \"Frequency\": 0.015625, \"Word\": \"lot\"}, {\"Score\": -1.7087983205374484, \"Frequency\": 0.015625, \"Word\": \"not\"}, {\"Score\": -1.7087983205374484, \"Frequency\": 0.015625, \"Word\": \"of\"}, {\"Score\": -1.7087983205374484, \"Frequency\": 0.015625, \"Word\": \"old\"}, {\"Score\": -1.7087983205374484, \"Frequency\": 0.015625, \"Word\": \"paleo\"}, {\"Score\": -1.7087983205374484, \"Frequency\": 0.015625, \"Word\": \"real\"}, {\"Score\": -1.7087983205374484, \"Frequency\": 0.015625, \"Word\": \"recently\"}, {\"Score\": -1.7087983205374484, \"Frequency\": 0.015625, \"Word\": \"snow\"}, {\"Score\": -1.7087983205374484, \"Frequency\": 0.015625, \"Word\": \"strawberries\"}, {\"Score\": -1.7087983205374484, \"Frequency\": 0.015625, \"Word\": \"than\"}, {\"Score\": -1.7087983205374484, \"Frequency\": 0.015625, \"Word\": \"tomorrow\"}, {\"Score\": -1.7087983205374484, \"Frequency\": 0.015625, \"Word\": \"us\"}, {\"Score\": -1.7087983205374484, \"Frequency\": 0.015625, \"Word\": \"warming\"}, {\"Score\": -1.7087983205374484, \"Frequency\": 0.015625, \"Word\": \"will\"}, {\"Score\": -1.7087983205374484, \"Frequency\": 0.015625, \"Word\": \"you\"}, {\"Score\": -1.6906944580070302, \"Frequency\": 0.03125, \"Word\": \"a\"}, {\"Score\": -1.6906944580070302, \"Frequency\": 0.03125, \"Word\": \"the\"}, {\"Score\": -1.6906944580070302, \"Frequency\": 0.03125, \"Word\": \"your\"}]}, \"mark\": \"point\", \"encoding\": {\"tooltip\": [{\"type\": \"nominal\", \"field\": \"Word\"}, {\"type\": \"quantitative\", \"field\": \"Frequency\"}, {\"type\": \"quantitative\", \"field\": \"Score\"}], \"x\": {\"type\": \"quantitative\", \"field\": \"Frequency\", \"scale\": {\"base\": 10, \"type\": \"log\"}}, \"y\": {\"type\": \"quantitative\", \"field\": \"Score\"}}, \"$schema\": \"https://vega.github.io/schema/vega-lite/v4.8.1.json\"}, {\"mode\": \"vega-lite\"});\n",
       "</script>"
      ],
      "text/plain": [
       "alt.Chart(...)"
      ]
     },
     "execution_count": 5,
     "metadata": {},
     "output_type": "execute_result"
    }
   ],
   "source": [
    "text_data.multi_corpus.display_difference_graph(corpus_1, corpus_2, text_data.multi_corpus.log_odds_ratio)"
   ]
  },
  {
   "cell_type": "code",
   "execution_count": 7,
   "metadata": {},
   "outputs": [
    {
     "data": {
      "text/html": [
       "<p><b>Left</b></p><table><thead><tr><th>Order</th><th>Word</th><th>Score</th></tr></thead><tbody><tr><td>0</td><td>0.0870113769896297</td><td>is</td></tr><tr><td>1</td><td>0.07143616520415849</td><td>your</td></tr><tr><td>2</td><td>0.07143616520415849</td><td>the</td></tr><tr><td>3</td><td>0.07143616520415849</td><td>a</td></tr><tr><td>4</td><td>0.036037011005356424</td><td>you</td></tr></tbody></table><p><b>Right</b></p><table><thead><tr><th>Order</th><th>Word</th><th>Score</th></tr></thead><tbody><tr><td>0</td><td>0.2107210313156527</td><td>wonderful</td></tr><tr><td>1</td><td>0.2107210313156527</td><td>this</td></tr><tr><td>2</td><td>0.2107210313156527</td><td>sucks</td></tr><tr><td>3</td><td>0.2107210313156527</td><td>am</td></tr><tr><td>4</td><td>0.10536051565782635</td><td>what</td></tr></tbody></table>"
      ],
      "text/plain": [
       "<IPython.core.display.HTML object>"
      ]
     },
     "execution_count": 7,
     "metadata": {},
     "output_type": "execute_result"
    }
   ],
   "source": [
    "tfidf_results = text_data.multi_corpus.get_word_scores([corpus_1, corpus_2], text_data.multi_corpus.tfidf)\n",
    "text_data.multi_corpus.display_notable(tfidf_results, [\"Left\", \"Right\"], num_results=5)"
   ]
  },
  {
   "cell_type": "code",
   "execution_count": null,
   "metadata": {},
   "outputs": [],
   "source": [
    "text_data.multi_corpus.display_top_differences(\n",
    "    corpus_1,\n",
    "    corpus_2,\n",
    "    text_data.multi_corpus.log_odds_ratio, num_results=5)"
   ]
  }
 ],
 "metadata": {
  "kernelspec": {
   "display_name": "text_data",
   "language": "python",
   "name": "text_data"
  },
  "language_info": {
   "codemirror_mode": {
    "name": "ipython",
    "version": 3
   },
   "file_extension": ".py",
   "mimetype": "text/x-python",
   "name": "python",
   "nbconvert_exporter": "python",
   "pygments_lexer": "ipython3",
   "version": "3.8.3"
  }
 },
 "nbformat": 4,
 "nbformat_minor": 4
}
