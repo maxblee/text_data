{
 "cells": [
  {
   "cell_type": "code",
   "execution_count": 4,
   "metadata": {},
   "outputs": [],
   "source": [
    "import tensorflow as tf\n",
    "import tensorflow_hub as hub\n",
    "module_url = \"https://tfhub.dev/google/universal-sentence-encoder/4\" \n",
    "model = hub.load(module_url)\n",
    "messages = [\n",
    "    # Smartphones\n",
    "    \"I like my phone\",\n",
    "    \"My phone is not good.\",\n",
    "    \"Your cellphone looks great.\",\n",
    "\n",
    "    # Weather\n",
    "    \"Will it snow tomorrow?\",\n",
    "    \"Recently a lot of hurricanes have hit the US\",\n",
    "    \"Global warming is real\",\n",
    "\n",
    "    # Food and health\n",
    "    \"An apple a day, keeps the doctors away\",\n",
    "    \"Eating strawberries is healthy\",\n",
    "    \"Is paleo better than keto?\",\n",
    "\n",
    "    # Asking about age\n",
    "    \"How old are you?\",\n",
    "    \"what is your age?\",\n",
    "]"
   ]
  },
  {
   "cell_type": "code",
   "execution_count": 6,
   "metadata": {},
   "outputs": [
    {
     "data": {
      "text/plain": [
       "array([[ 0.02028433, -0.04547506,  0.00086529, ..., -0.03019485,\n",
       "        -0.02359274, -0.03768108],\n",
       "       [-0.05333938, -0.01006441,  0.00595802, ..., -0.03931049,\n",
       "        -0.01579615, -0.04296477],\n",
       "       [-0.03607358,  0.06149342,  0.03570342, ...,  0.02274203,\n",
       "         0.00435958, -0.02052141],\n",
       "       ...,\n",
       "       [-0.02979803, -0.06329199,  0.0120791 , ...,  0.07824196,\n",
       "        -0.03885259, -0.03307637],\n",
       "       [-0.0604513 , -0.00204539,  0.02656926, ...,  0.00764415,\n",
       "        -0.0266966 ,  0.05110302],\n",
       "       [-0.08415684, -0.08687921,  0.03446116, ..., -0.01439385,\n",
       "        -0.04546219,  0.03639966]], dtype=float32)"
      ]
     },
     "execution_count": 6,
     "metadata": {},
     "output_type": "execute_result"
    }
   ],
   "source": [
    "model(messages).numpy()"
   ]
  },
  {
   "cell_type": "code",
   "execution_count": null,
   "metadata": {},
   "outputs": [],
   "source": []
  }
 ],
 "metadata": {
  "kernelspec": {
   "display_name": "tf-setup",
   "language": "python",
   "name": "tf-setup"
  },
  "language_info": {
   "codemirror_mode": {
    "name": "ipython",
    "version": 3
   },
   "file_extension": ".py",
   "mimetype": "text/x-python",
   "name": "python",
   "nbconvert_exporter": "python",
   "pygments_lexer": "ipython3",
   "version": "3.8.3"
  }
 },
 "nbformat": 4,
 "nbformat_minor": 4
}
